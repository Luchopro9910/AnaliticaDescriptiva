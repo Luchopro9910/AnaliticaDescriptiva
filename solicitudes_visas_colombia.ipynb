{
  "nbformat": 4,
  "nbformat_minor": 0,
  "metadata": {
    "colab": {
      "provenance": [],
      "include_colab_link": true
    },
    "kernelspec": {
      "name": "python3",
      "display_name": "Python 3"
    },
    "language_info": {
      "name": "python"
    }
  },
  "cells": [
    {
      "cell_type": "markdown",
      "metadata": {
        "id": "view-in-github",
        "colab_type": "text"
      },
      "source": [
        "<a href=\"https://colab.research.google.com/github/Luchopro9910/AnaliticaDescriptiva/blob/main/solicitudes_visas_colombia.ipynb\" target=\"_parent\"><img src=\"https://colab.research.google.com/assets/colab-badge.svg\" alt=\"Open In Colab\"/></a>"
      ]
    },
    {
      "cell_type": "markdown",
      "source": [
        "**Taller de Análisis Exploratorio de Datos**\n"
      ],
      "metadata": {
        "id": "nT7EM6oM0Pb_"
      }
    },
    {
      "cell_type": "markdown",
      "source": [
        "Angelica Catro Chaves,\n",
        "Luis David Rodriguez Calderon"
      ],
      "metadata": {
        "id": "UJPQ6u6z0gej"
      }
    },
    {
      "cell_type": "code",
      "execution_count": null,
      "metadata": {
        "id": "51H4FtxVFF5g"
      },
      "outputs": [],
      "source": [
        "#david\n",
        "\n",
        "import pandas as pd\n",
        "import numpy as np\n",
        "import matplotlib.pyplot as plt\n",
        "from scipy.stats import trim_mean\n",
        "import seaborn as sns\n",
        "from scipy import stats"
      ]
    },
    {
      "cell_type": "code",
      "source": [
        "#david\n",
        "dataset = pd.read_csv(\"/content/Comportamiento_del_tr_mite_de_expedici_n_de_visa_colombiana_a_nacionales_de_Venezuela_20250224.csv\")"
      ],
      "metadata": {
        "colab": {
          "base_uri": "https://localhost:8080/"
        },
        "id": "e0-i2eULFWgM",
        "outputId": "b8509e8d-b891-48fe-9e6d-ac430c95e47a"
      },
      "execution_count": null,
      "outputs": [
        {
          "output_type": "stream",
          "name": "stderr",
          "text": [
            "<ipython-input-3-5b684b78e763>:1: DtypeWarning: Columns (4) have mixed types. Specify dtype option on import or set low_memory=False.\n",
            "  dataset = pd.read_csv(\"/content/Comportamiento_del_tr_mite_de_expedici_n_de_visa_colombiana_a_nacionales_de_Venezuela_20250224.csv\")\n"
          ]
        }
      ]
    },
    {
      "cell_type": "code",
      "source": [
        "dataset.head(10)"
      ],
      "metadata": {
        "colab": {
          "base_uri": "https://localhost:8080/",
          "height": 661
        },
        "id": "HySO11lNFvXo",
        "outputId": "4d47a30e-8853-48bb-bf58-d4a02ac1bfb2"
      },
      "execution_count": null,
      "outputs": [
        {
          "output_type": "execute_result",
          "data": {
            "text/plain": [
              "      Tipo de visa                   Actividad de la visa País de nacimiento  \\\n",
              "0         NEGOCIOS                                   NE-1          ARGENTINA   \n",
              "1         NEGOCIOS                                   NE-1          ARGENTINA   \n",
              "2   VISAS MIGRANTE  C�NYUGE DE NACIONALIDAD COLOMBIANO(A)          VENEZUELA   \n",
              "3         NEGOCIOS                                   NE-1              CHILE   \n",
              "4   VISAS MIGRANTE                             TRABAJADOR          VENEZUELA   \n",
              "5  VISAS VISITANTE      ESTUDIANTE / VOLUNTARIO RELIGIOSO          VENEZUELA   \n",
              "6   VISAS MIGRANTE                             TRABAJADOR          VENEZUELA   \n",
              "7   VISAS MIGRANTE                             TRABAJADOR          VENEZUELA   \n",
              "8         NEGOCIOS                                   NE-1               CUBA   \n",
              "9         NEGOCIOS                                   NE-1               CUBA   \n",
              "\n",
              "  Sexo Edad Tiene Hijos       Nivel académico     Area conocimiento  \\\n",
              "0    M   49          NO         (NO REGISTRA)         (NO REGISTRA)   \n",
              "1    M   52          NO  POSTGRADO - MAESTRIA  CIENCIAS DE LA SALUD   \n",
              "2    M   69          NO         SIN PROFESI�N               NINGUNA   \n",
              "3    M   62          NO         (NO REGISTRA)         (NO REGISTRA)   \n",
              "4    M   18          NO         SIN PROFESI�N               NINGUNA   \n",
              "5    F   24          NO         SIN PROFESI�N               NINGUNA   \n",
              "6    F   15          NO         SIN PROFESI�N               NINGUNA   \n",
              "7    F    5          NO         SIN PROFESI�N               NINGUNA   \n",
              "8    M   49          NO         (NO REGISTRA)         (NO REGISTRA)   \n",
              "9    M   66          NO         (NO REGISTRA)         (NO REGISTRA)   \n",
              "\n",
              "  Subarea conocimiento Ciudad domicilio Colombia  \\\n",
              "0        (NO REGISTRA)                    CUCUTA   \n",
              "1             MEDICINA              BARRANQUILLA   \n",
              "2              NINGUNA                   ARMENIA   \n",
              "3        (NO REGISTRA)                    CUCUTA   \n",
              "4              NINGUNA               BOGOTA D.C.   \n",
              "5              NINGUNA                      CALI   \n",
              "6              NINGUNA               BOGOTA D.C.   \n",
              "7              NINGUNA                 BOGOT� DC   \n",
              "8        (NO REGISTRA)                    BOGOTA   \n",
              "9        (NO REGISTRA)                    BOGOTA   \n",
              "\n",
              "   Ciudad domicilio Colombia Código Departamento domicilio Colombia  \\\n",
              "0                             54001              NORTE DE SANTANDER   \n",
              "1                              8001                       ATLANTICO   \n",
              "2                             63001                         QUINDIO   \n",
              "3                             54001              NORTE DE SANTANDER   \n",
              "4                             11001                    CUNDINAMARCA   \n",
              "5                             76001                 VALLE DEL CAUCA   \n",
              "6                             11001                    CUNDINAMARCA   \n",
              "7                             11001                    CUNDINAMARCA   \n",
              "8                             11001                    CUNDINAMARCA   \n",
              "9                             11001                    CUNDINAMARCA   \n",
              "\n",
              "  Actividad en Colombia Ocupación en Colombia Sector de actividad en Colombia  \\\n",
              "0             NO INDICA           NO REGISTRA                       NO INDICA   \n",
              "1             NO INDICA           NO REGISTRA                       SERVICIOS   \n",
              "2               TRABAJO           NO REGISTRA                       SERVICIOS   \n",
              "3             NO INDICA       INGENIERO CIVIL                       NO INDICA   \n",
              "4             NO INDICA                 HOGAR                       NO INDICA   \n",
              "5             NO INDICA             RELIGIOSO                       NO INDICA   \n",
              "6             NO INDICA            ESTUDIANTE                       NO INDICA   \n",
              "7             NO INDICA                 HOGAR                       NO INDICA   \n",
              "8             NO INDICA    INGENIERO MECANICO                       NO INDICA   \n",
              "9             NO INDICA            ECONOMISTA                       NO INDICA   \n",
              "\n",
              "  Tiene familiares residentes en Colombia  Año Expedición  Mes expedición  \\\n",
              "0                                      NO            2014               1   \n",
              "1                                      NO            2017               3   \n",
              "2                                      NO            2023              10   \n",
              "3                                      NO            2014               2   \n",
              "4                                      NO            2023              10   \n",
              "5                                      NO            2023              10   \n",
              "6                                      SI            2022              11   \n",
              "7                                      NO            2022              11   \n",
              "8                                      NO            2013               9   \n",
              "9                                      NO            2014              10   \n",
              "\n",
              "   Numero  \n",
              "0       1  \n",
              "1       1  \n",
              "2       1  \n",
              "3       1  \n",
              "4       1  \n",
              "5       1  \n",
              "6       1  \n",
              "7       1  \n",
              "8       1  \n",
              "9       1  "
            ],
            "text/html": [
              "\n",
              "  <div id=\"df-f17b792f-7925-4752-8ead-dad50118dd0c\" class=\"colab-df-container\">\n",
              "    <div>\n",
              "<style scoped>\n",
              "    .dataframe tbody tr th:only-of-type {\n",
              "        vertical-align: middle;\n",
              "    }\n",
              "\n",
              "    .dataframe tbody tr th {\n",
              "        vertical-align: top;\n",
              "    }\n",
              "\n",
              "    .dataframe thead th {\n",
              "        text-align: right;\n",
              "    }\n",
              "</style>\n",
              "<table border=\"1\" class=\"dataframe\">\n",
              "  <thead>\n",
              "    <tr style=\"text-align: right;\">\n",
              "      <th></th>\n",
              "      <th>Tipo de visa</th>\n",
              "      <th>Actividad de la visa</th>\n",
              "      <th>País de nacimiento</th>\n",
              "      <th>Sexo</th>\n",
              "      <th>Edad</th>\n",
              "      <th>Tiene Hijos</th>\n",
              "      <th>Nivel académico</th>\n",
              "      <th>Area conocimiento</th>\n",
              "      <th>Subarea conocimiento</th>\n",
              "      <th>Ciudad domicilio Colombia</th>\n",
              "      <th>Ciudad domicilio Colombia Código</th>\n",
              "      <th>Departamento domicilio Colombia</th>\n",
              "      <th>Actividad en Colombia</th>\n",
              "      <th>Ocupación en Colombia</th>\n",
              "      <th>Sector de actividad en Colombia</th>\n",
              "      <th>Tiene familiares residentes en Colombia</th>\n",
              "      <th>Año Expedición</th>\n",
              "      <th>Mes expedición</th>\n",
              "      <th>Numero</th>\n",
              "    </tr>\n",
              "  </thead>\n",
              "  <tbody>\n",
              "    <tr>\n",
              "      <th>0</th>\n",
              "      <td>NEGOCIOS</td>\n",
              "      <td>NE-1</td>\n",
              "      <td>ARGENTINA</td>\n",
              "      <td>M</td>\n",
              "      <td>49</td>\n",
              "      <td>NO</td>\n",
              "      <td>(NO REGISTRA)</td>\n",
              "      <td>(NO REGISTRA)</td>\n",
              "      <td>(NO REGISTRA)</td>\n",
              "      <td>CUCUTA</td>\n",
              "      <td>54001</td>\n",
              "      <td>NORTE DE SANTANDER</td>\n",
              "      <td>NO INDICA</td>\n",
              "      <td>NO REGISTRA</td>\n",
              "      <td>NO INDICA</td>\n",
              "      <td>NO</td>\n",
              "      <td>2014</td>\n",
              "      <td>1</td>\n",
              "      <td>1</td>\n",
              "    </tr>\n",
              "    <tr>\n",
              "      <th>1</th>\n",
              "      <td>NEGOCIOS</td>\n",
              "      <td>NE-1</td>\n",
              "      <td>ARGENTINA</td>\n",
              "      <td>M</td>\n",
              "      <td>52</td>\n",
              "      <td>NO</td>\n",
              "      <td>POSTGRADO - MAESTRIA</td>\n",
              "      <td>CIENCIAS DE LA SALUD</td>\n",
              "      <td>MEDICINA</td>\n",
              "      <td>BARRANQUILLA</td>\n",
              "      <td>8001</td>\n",
              "      <td>ATLANTICO</td>\n",
              "      <td>NO INDICA</td>\n",
              "      <td>NO REGISTRA</td>\n",
              "      <td>SERVICIOS</td>\n",
              "      <td>NO</td>\n",
              "      <td>2017</td>\n",
              "      <td>3</td>\n",
              "      <td>1</td>\n",
              "    </tr>\n",
              "    <tr>\n",
              "      <th>2</th>\n",
              "      <td>VISAS MIGRANTE</td>\n",
              "      <td>C�NYUGE DE NACIONALIDAD COLOMBIANO(A)</td>\n",
              "      <td>VENEZUELA</td>\n",
              "      <td>M</td>\n",
              "      <td>69</td>\n",
              "      <td>NO</td>\n",
              "      <td>SIN PROFESI�N</td>\n",
              "      <td>NINGUNA</td>\n",
              "      <td>NINGUNA</td>\n",
              "      <td>ARMENIA</td>\n",
              "      <td>63001</td>\n",
              "      <td>QUINDIO</td>\n",
              "      <td>TRABAJO</td>\n",
              "      <td>NO REGISTRA</td>\n",
              "      <td>SERVICIOS</td>\n",
              "      <td>NO</td>\n",
              "      <td>2023</td>\n",
              "      <td>10</td>\n",
              "      <td>1</td>\n",
              "    </tr>\n",
              "    <tr>\n",
              "      <th>3</th>\n",
              "      <td>NEGOCIOS</td>\n",
              "      <td>NE-1</td>\n",
              "      <td>CHILE</td>\n",
              "      <td>M</td>\n",
              "      <td>62</td>\n",
              "      <td>NO</td>\n",
              "      <td>(NO REGISTRA)</td>\n",
              "      <td>(NO REGISTRA)</td>\n",
              "      <td>(NO REGISTRA)</td>\n",
              "      <td>CUCUTA</td>\n",
              "      <td>54001</td>\n",
              "      <td>NORTE DE SANTANDER</td>\n",
              "      <td>NO INDICA</td>\n",
              "      <td>INGENIERO CIVIL</td>\n",
              "      <td>NO INDICA</td>\n",
              "      <td>NO</td>\n",
              "      <td>2014</td>\n",
              "      <td>2</td>\n",
              "      <td>1</td>\n",
              "    </tr>\n",
              "    <tr>\n",
              "      <th>4</th>\n",
              "      <td>VISAS MIGRANTE</td>\n",
              "      <td>TRABAJADOR</td>\n",
              "      <td>VENEZUELA</td>\n",
              "      <td>M</td>\n",
              "      <td>18</td>\n",
              "      <td>NO</td>\n",
              "      <td>SIN PROFESI�N</td>\n",
              "      <td>NINGUNA</td>\n",
              "      <td>NINGUNA</td>\n",
              "      <td>BOGOTA D.C.</td>\n",
              "      <td>11001</td>\n",
              "      <td>CUNDINAMARCA</td>\n",
              "      <td>NO INDICA</td>\n",
              "      <td>HOGAR</td>\n",
              "      <td>NO INDICA</td>\n",
              "      <td>NO</td>\n",
              "      <td>2023</td>\n",
              "      <td>10</td>\n",
              "      <td>1</td>\n",
              "    </tr>\n",
              "    <tr>\n",
              "      <th>5</th>\n",
              "      <td>VISAS VISITANTE</td>\n",
              "      <td>ESTUDIANTE / VOLUNTARIO RELIGIOSO</td>\n",
              "      <td>VENEZUELA</td>\n",
              "      <td>F</td>\n",
              "      <td>24</td>\n",
              "      <td>NO</td>\n",
              "      <td>SIN PROFESI�N</td>\n",
              "      <td>NINGUNA</td>\n",
              "      <td>NINGUNA</td>\n",
              "      <td>CALI</td>\n",
              "      <td>76001</td>\n",
              "      <td>VALLE DEL CAUCA</td>\n",
              "      <td>NO INDICA</td>\n",
              "      <td>RELIGIOSO</td>\n",
              "      <td>NO INDICA</td>\n",
              "      <td>NO</td>\n",
              "      <td>2023</td>\n",
              "      <td>10</td>\n",
              "      <td>1</td>\n",
              "    </tr>\n",
              "    <tr>\n",
              "      <th>6</th>\n",
              "      <td>VISAS MIGRANTE</td>\n",
              "      <td>TRABAJADOR</td>\n",
              "      <td>VENEZUELA</td>\n",
              "      <td>F</td>\n",
              "      <td>15</td>\n",
              "      <td>NO</td>\n",
              "      <td>SIN PROFESI�N</td>\n",
              "      <td>NINGUNA</td>\n",
              "      <td>NINGUNA</td>\n",
              "      <td>BOGOTA D.C.</td>\n",
              "      <td>11001</td>\n",
              "      <td>CUNDINAMARCA</td>\n",
              "      <td>NO INDICA</td>\n",
              "      <td>ESTUDIANTE</td>\n",
              "      <td>NO INDICA</td>\n",
              "      <td>SI</td>\n",
              "      <td>2022</td>\n",
              "      <td>11</td>\n",
              "      <td>1</td>\n",
              "    </tr>\n",
              "    <tr>\n",
              "      <th>7</th>\n",
              "      <td>VISAS MIGRANTE</td>\n",
              "      <td>TRABAJADOR</td>\n",
              "      <td>VENEZUELA</td>\n",
              "      <td>F</td>\n",
              "      <td>5</td>\n",
              "      <td>NO</td>\n",
              "      <td>SIN PROFESI�N</td>\n",
              "      <td>NINGUNA</td>\n",
              "      <td>NINGUNA</td>\n",
              "      <td>BOGOT� DC</td>\n",
              "      <td>11001</td>\n",
              "      <td>CUNDINAMARCA</td>\n",
              "      <td>NO INDICA</td>\n",
              "      <td>HOGAR</td>\n",
              "      <td>NO INDICA</td>\n",
              "      <td>NO</td>\n",
              "      <td>2022</td>\n",
              "      <td>11</td>\n",
              "      <td>1</td>\n",
              "    </tr>\n",
              "    <tr>\n",
              "      <th>8</th>\n",
              "      <td>NEGOCIOS</td>\n",
              "      <td>NE-1</td>\n",
              "      <td>CUBA</td>\n",
              "      <td>M</td>\n",
              "      <td>49</td>\n",
              "      <td>NO</td>\n",
              "      <td>(NO REGISTRA)</td>\n",
              "      <td>(NO REGISTRA)</td>\n",
              "      <td>(NO REGISTRA)</td>\n",
              "      <td>BOGOTA</td>\n",
              "      <td>11001</td>\n",
              "      <td>CUNDINAMARCA</td>\n",
              "      <td>NO INDICA</td>\n",
              "      <td>INGENIERO MECANICO</td>\n",
              "      <td>NO INDICA</td>\n",
              "      <td>NO</td>\n",
              "      <td>2013</td>\n",
              "      <td>9</td>\n",
              "      <td>1</td>\n",
              "    </tr>\n",
              "    <tr>\n",
              "      <th>9</th>\n",
              "      <td>NEGOCIOS</td>\n",
              "      <td>NE-1</td>\n",
              "      <td>CUBA</td>\n",
              "      <td>M</td>\n",
              "      <td>66</td>\n",
              "      <td>NO</td>\n",
              "      <td>(NO REGISTRA)</td>\n",
              "      <td>(NO REGISTRA)</td>\n",
              "      <td>(NO REGISTRA)</td>\n",
              "      <td>BOGOTA</td>\n",
              "      <td>11001</td>\n",
              "      <td>CUNDINAMARCA</td>\n",
              "      <td>NO INDICA</td>\n",
              "      <td>ECONOMISTA</td>\n",
              "      <td>NO INDICA</td>\n",
              "      <td>NO</td>\n",
              "      <td>2014</td>\n",
              "      <td>10</td>\n",
              "      <td>1</td>\n",
              "    </tr>\n",
              "  </tbody>\n",
              "</table>\n",
              "</div>\n",
              "    <div class=\"colab-df-buttons\">\n",
              "\n",
              "  <div class=\"colab-df-container\">\n",
              "    <button class=\"colab-df-convert\" onclick=\"convertToInteractive('df-f17b792f-7925-4752-8ead-dad50118dd0c')\"\n",
              "            title=\"Convert this dataframe to an interactive table.\"\n",
              "            style=\"display:none;\">\n",
              "\n",
              "  <svg xmlns=\"http://www.w3.org/2000/svg\" height=\"24px\" viewBox=\"0 -960 960 960\">\n",
              "    <path d=\"M120-120v-720h720v720H120Zm60-500h600v-160H180v160Zm220 220h160v-160H400v160Zm0 220h160v-160H400v160ZM180-400h160v-160H180v160Zm440 0h160v-160H620v160ZM180-180h160v-160H180v160Zm440 0h160v-160H620v160Z\"/>\n",
              "  </svg>\n",
              "    </button>\n",
              "\n",
              "  <style>\n",
              "    .colab-df-container {\n",
              "      display:flex;\n",
              "      gap: 12px;\n",
              "    }\n",
              "\n",
              "    .colab-df-convert {\n",
              "      background-color: #E8F0FE;\n",
              "      border: none;\n",
              "      border-radius: 50%;\n",
              "      cursor: pointer;\n",
              "      display: none;\n",
              "      fill: #1967D2;\n",
              "      height: 32px;\n",
              "      padding: 0 0 0 0;\n",
              "      width: 32px;\n",
              "    }\n",
              "\n",
              "    .colab-df-convert:hover {\n",
              "      background-color: #E2EBFA;\n",
              "      box-shadow: 0px 1px 2px rgba(60, 64, 67, 0.3), 0px 1px 3px 1px rgba(60, 64, 67, 0.15);\n",
              "      fill: #174EA6;\n",
              "    }\n",
              "\n",
              "    .colab-df-buttons div {\n",
              "      margin-bottom: 4px;\n",
              "    }\n",
              "\n",
              "    [theme=dark] .colab-df-convert {\n",
              "      background-color: #3B4455;\n",
              "      fill: #D2E3FC;\n",
              "    }\n",
              "\n",
              "    [theme=dark] .colab-df-convert:hover {\n",
              "      background-color: #434B5C;\n",
              "      box-shadow: 0px 1px 3px 1px rgba(0, 0, 0, 0.15);\n",
              "      filter: drop-shadow(0px 1px 2px rgba(0, 0, 0, 0.3));\n",
              "      fill: #FFFFFF;\n",
              "    }\n",
              "  </style>\n",
              "\n",
              "    <script>\n",
              "      const buttonEl =\n",
              "        document.querySelector('#df-f17b792f-7925-4752-8ead-dad50118dd0c button.colab-df-convert');\n",
              "      buttonEl.style.display =\n",
              "        google.colab.kernel.accessAllowed ? 'block' : 'none';\n",
              "\n",
              "      async function convertToInteractive(key) {\n",
              "        const element = document.querySelector('#df-f17b792f-7925-4752-8ead-dad50118dd0c');\n",
              "        const dataTable =\n",
              "          await google.colab.kernel.invokeFunction('convertToInteractive',\n",
              "                                                    [key], {});\n",
              "        if (!dataTable) return;\n",
              "\n",
              "        const docLinkHtml = 'Like what you see? Visit the ' +\n",
              "          '<a target=\"_blank\" href=https://colab.research.google.com/notebooks/data_table.ipynb>data table notebook</a>'\n",
              "          + ' to learn more about interactive tables.';\n",
              "        element.innerHTML = '';\n",
              "        dataTable['output_type'] = 'display_data';\n",
              "        await google.colab.output.renderOutput(dataTable, element);\n",
              "        const docLink = document.createElement('div');\n",
              "        docLink.innerHTML = docLinkHtml;\n",
              "        element.appendChild(docLink);\n",
              "      }\n",
              "    </script>\n",
              "  </div>\n",
              "\n",
              "\n",
              "<div id=\"df-876e3610-4756-45b1-887d-d7087f17ccdb\">\n",
              "  <button class=\"colab-df-quickchart\" onclick=\"quickchart('df-876e3610-4756-45b1-887d-d7087f17ccdb')\"\n",
              "            title=\"Suggest charts\"\n",
              "            style=\"display:none;\">\n",
              "\n",
              "<svg xmlns=\"http://www.w3.org/2000/svg\" height=\"24px\"viewBox=\"0 0 24 24\"\n",
              "     width=\"24px\">\n",
              "    <g>\n",
              "        <path d=\"M19 3H5c-1.1 0-2 .9-2 2v14c0 1.1.9 2 2 2h14c1.1 0 2-.9 2-2V5c0-1.1-.9-2-2-2zM9 17H7v-7h2v7zm4 0h-2V7h2v10zm4 0h-2v-4h2v4z\"/>\n",
              "    </g>\n",
              "</svg>\n",
              "  </button>\n",
              "\n",
              "<style>\n",
              "  .colab-df-quickchart {\n",
              "      --bg-color: #E8F0FE;\n",
              "      --fill-color: #1967D2;\n",
              "      --hover-bg-color: #E2EBFA;\n",
              "      --hover-fill-color: #174EA6;\n",
              "      --disabled-fill-color: #AAA;\n",
              "      --disabled-bg-color: #DDD;\n",
              "  }\n",
              "\n",
              "  [theme=dark] .colab-df-quickchart {\n",
              "      --bg-color: #3B4455;\n",
              "      --fill-color: #D2E3FC;\n",
              "      --hover-bg-color: #434B5C;\n",
              "      --hover-fill-color: #FFFFFF;\n",
              "      --disabled-bg-color: #3B4455;\n",
              "      --disabled-fill-color: #666;\n",
              "  }\n",
              "\n",
              "  .colab-df-quickchart {\n",
              "    background-color: var(--bg-color);\n",
              "    border: none;\n",
              "    border-radius: 50%;\n",
              "    cursor: pointer;\n",
              "    display: none;\n",
              "    fill: var(--fill-color);\n",
              "    height: 32px;\n",
              "    padding: 0;\n",
              "    width: 32px;\n",
              "  }\n",
              "\n",
              "  .colab-df-quickchart:hover {\n",
              "    background-color: var(--hover-bg-color);\n",
              "    box-shadow: 0 1px 2px rgba(60, 64, 67, 0.3), 0 1px 3px 1px rgba(60, 64, 67, 0.15);\n",
              "    fill: var(--button-hover-fill-color);\n",
              "  }\n",
              "\n",
              "  .colab-df-quickchart-complete:disabled,\n",
              "  .colab-df-quickchart-complete:disabled:hover {\n",
              "    background-color: var(--disabled-bg-color);\n",
              "    fill: var(--disabled-fill-color);\n",
              "    box-shadow: none;\n",
              "  }\n",
              "\n",
              "  .colab-df-spinner {\n",
              "    border: 2px solid var(--fill-color);\n",
              "    border-color: transparent;\n",
              "    border-bottom-color: var(--fill-color);\n",
              "    animation:\n",
              "      spin 1s steps(1) infinite;\n",
              "  }\n",
              "\n",
              "  @keyframes spin {\n",
              "    0% {\n",
              "      border-color: transparent;\n",
              "      border-bottom-color: var(--fill-color);\n",
              "      border-left-color: var(--fill-color);\n",
              "    }\n",
              "    20% {\n",
              "      border-color: transparent;\n",
              "      border-left-color: var(--fill-color);\n",
              "      border-top-color: var(--fill-color);\n",
              "    }\n",
              "    30% {\n",
              "      border-color: transparent;\n",
              "      border-left-color: var(--fill-color);\n",
              "      border-top-color: var(--fill-color);\n",
              "      border-right-color: var(--fill-color);\n",
              "    }\n",
              "    40% {\n",
              "      border-color: transparent;\n",
              "      border-right-color: var(--fill-color);\n",
              "      border-top-color: var(--fill-color);\n",
              "    }\n",
              "    60% {\n",
              "      border-color: transparent;\n",
              "      border-right-color: var(--fill-color);\n",
              "    }\n",
              "    80% {\n",
              "      border-color: transparent;\n",
              "      border-right-color: var(--fill-color);\n",
              "      border-bottom-color: var(--fill-color);\n",
              "    }\n",
              "    90% {\n",
              "      border-color: transparent;\n",
              "      border-bottom-color: var(--fill-color);\n",
              "    }\n",
              "  }\n",
              "</style>\n",
              "\n",
              "  <script>\n",
              "    async function quickchart(key) {\n",
              "      const quickchartButtonEl =\n",
              "        document.querySelector('#' + key + ' button');\n",
              "      quickchartButtonEl.disabled = true;  // To prevent multiple clicks.\n",
              "      quickchartButtonEl.classList.add('colab-df-spinner');\n",
              "      try {\n",
              "        const charts = await google.colab.kernel.invokeFunction(\n",
              "            'suggestCharts', [key], {});\n",
              "      } catch (error) {\n",
              "        console.error('Error during call to suggestCharts:', error);\n",
              "      }\n",
              "      quickchartButtonEl.classList.remove('colab-df-spinner');\n",
              "      quickchartButtonEl.classList.add('colab-df-quickchart-complete');\n",
              "    }\n",
              "    (() => {\n",
              "      let quickchartButtonEl =\n",
              "        document.querySelector('#df-876e3610-4756-45b1-887d-d7087f17ccdb button');\n",
              "      quickchartButtonEl.style.display =\n",
              "        google.colab.kernel.accessAllowed ? 'block' : 'none';\n",
              "    })();\n",
              "  </script>\n",
              "</div>\n",
              "\n",
              "    </div>\n",
              "  </div>\n"
            ],
            "application/vnd.google.colaboratory.intrinsic+json": {
              "type": "dataframe",
              "variable_name": "dataset"
            }
          },
          "metadata": {},
          "execution_count": 4
        }
      ]
    },
    {
      "cell_type": "code",
      "source": [
        "dataset.info()"
      ],
      "metadata": {
        "colab": {
          "base_uri": "https://localhost:8080/"
        },
        "id": "oPoupiOSF4EQ",
        "outputId": "eaaba8de-bcf8-4e47-aca4-adbedb627b9e"
      },
      "execution_count": null,
      "outputs": [
        {
          "output_type": "stream",
          "name": "stdout",
          "text": [
            "<class 'pandas.core.frame.DataFrame'>\n",
            "RangeIndex: 133970 entries, 0 to 133969\n",
            "Data columns (total 19 columns):\n",
            " #   Column                                   Non-Null Count   Dtype \n",
            "---  ------                                   --------------   ----- \n",
            " 0   Tipo de visa                             133970 non-null  object\n",
            " 1   Actividad de la visa                     133970 non-null  object\n",
            " 2   País de nacimiento                       133970 non-null  object\n",
            " 3   Sexo                                     133970 non-null  object\n",
            " 4   Edad                                     133970 non-null  object\n",
            " 5   Tiene Hijos                              133970 non-null  object\n",
            " 6   Nivel académico                          133970 non-null  object\n",
            " 7   Area conocimiento                        133970 non-null  object\n",
            " 8   Subarea conocimiento                     133970 non-null  object\n",
            " 9   Ciudad domicilio Colombia                133970 non-null  object\n",
            " 10  Ciudad domicilio Colombia Código         133970 non-null  int64 \n",
            " 11  Departamento domicilio Colombia          133970 non-null  object\n",
            " 12  Actividad en Colombia                    133970 non-null  object\n",
            " 13  Ocupación en Colombia                    133958 non-null  object\n",
            " 14  Sector de actividad en Colombia          133970 non-null  object\n",
            " 15  Tiene familiares residentes en Colombia  133970 non-null  object\n",
            " 16  Año Expedición                           133970 non-null  int64 \n",
            " 17  Mes expedición                           133970 non-null  int64 \n",
            " 18  Numero                                   133970 non-null  int64 \n",
            "dtypes: int64(4), object(15)\n",
            "memory usage: 19.4+ MB\n"
          ]
        }
      ]
    },
    {
      "cell_type": "code",
      "source": [
        "#angelica\n",
        "media_año_expedicion = dataset [\"Año Expedición\"].mean()\n",
        "media_mes_expedicion = dataset [\"Mes expedición\"].mean()\n",
        "media_numero = dataset[\"Numero\"].mean()\n",
        "media_edad = dataset [\"Edad\"].mean()\n",
        "media_ciudad_domicilo_codigo = dataset[\"Ciudad domicilio Colombia Código\"].mean()\n",
        "print (f\"la media del años de expedicion es: {media_año_expedicion}\")\n",
        "print (f\"la media del mes de expedicion es: {media_mes_expedicion}\")\n",
        "print (f\"la media del numero es: {media_numero}\")\n",
        "print (f\"la media de ciudad domicilo es: {media_ciudad_domicilo_codigo}\")\n",
        "print (f\"la media de edad es: {media_edad}\")"
      ],
      "metadata": {
        "colab": {
          "base_uri": "https://localhost:8080/"
        },
        "id": "jh51zvmPGyDr",
        "outputId": "8a352701-6302-4b1f-96cb-0977a140c152"
      },
      "execution_count": null,
      "outputs": [
        {
          "output_type": "stream",
          "name": "stdout",
          "text": [
            "la media del años de expedicion es: 2018.2635590057475\n",
            "la media del mes de expedicion es: 6.70291856385758\n",
            "la media del numero es: 1.0282003433604539\n",
            "la media de ciudad domicilo es: 13375.625371351794\n",
            "la media de edad es: 37.026319914605835\n"
          ]
        }
      ]
    },
    {
      "cell_type": "code",
      "source": [
        "#angelica\n",
        "media_truncada_año_expedicion = trim_mean(dataset[\"Año Expedición\"], 0.1)\n",
        "media_truncada_mes_expedicion = trim_mean(dataset[\"Mes expedición\"], 0.1)\n",
        "media_truncada_numero = trim_mean(dataset[\"Numero\"], 0.1)\n",
        "media_truncada_ciudad_domicilio = trim_mean(dataset[\"Ciudad domicilio Colombia Código\"], 0.1)\n",
        "media_truncada_edad = trim_mean(dataset[\"Edad\"], 0.1)\n",
        "print (f\"la  media truncada de año de expedicion es: {media_truncada_año_expedicion}\")\n",
        "print (f\"la  media truncada de mes de expedicion es: {media_truncada_año_expedicion}\")\n",
        "print (f\"la  media truncada de numero es: {media_truncada_numero}\")\n",
        "print (f\"la  media truncada de ciudad domicilo es: {media_truncada_ciudad_domicilio}\")\n",
        "print (f\"la  media truncada de edad es: {media_truncada_edad}\")\n"
      ],
      "metadata": {
        "colab": {
          "base_uri": "https://localhost:8080/"
        },
        "id": "NUGAAwR5MHUH",
        "outputId": "8296f2ba-5c19-4b9c-abbc-db0325c8e689"
      },
      "execution_count": null,
      "outputs": [
        {
          "output_type": "stream",
          "name": "stdout",
          "text": [
            "la  media truncada de año de expedicion es: 2018.12784578637\n",
            "la  media truncada de mes de expedicion es: 2018.12784578637\n",
            "la  media truncada de numero es: 1.0\n",
            "la  media truncada de ciudad domicilo es: 8114.4495782637905\n",
            "la  media truncada de edad es: 36.68822310965142\n"
          ]
        }
      ]
    },
    {
      "cell_type": "code",
      "source": [
        "#angelica\n",
        "mediana_año_expedicion = dataset[\"Año Expedición\"].median()\n",
        "mediana_mes_expedicion = dataset[\"Mes expedición\"].median()\n",
        "mediana_numero = dataset[\"Numero\"].median()\n",
        "mediana_ciudad_domicilio = dataset[\"Ciudad domicilio Colombia Código\"].median()\n",
        "mediana_edad = dataset[\"Edad\"].median()\n",
        "print (f\"la  mediana de año de expedicion es: {mediana_año_expedicion}\")\n",
        "print (f\"la  mediana de mes de expedicion es: {mediana_mes_expedicion}\")\n",
        "print (f\"la  mediana de numero es: {mediana_numero}\")\n",
        "print (f\"la  mediana de ciudad domicilo es: {mediana_ciudad_domicilio}\")\n",
        "print (f\"la  mediana de edad es: {mediana_edad}\")"
      ],
      "metadata": {
        "colab": {
          "base_uri": "https://localhost:8080/"
        },
        "id": "gUI9xpb5PbKz",
        "outputId": "98fc1d98-eaf5-46ba-9464-b4675556c99c"
      },
      "execution_count": null,
      "outputs": [
        {
          "output_type": "stream",
          "name": "stdout",
          "text": [
            "la  mediana de año de expedicion es: 2018.0\n",
            "la  mediana de mes de expedicion es: 7.0\n",
            "la  mediana de numero es: 1.0\n",
            "la  mediana de ciudad domicilo es: 5266.0\n",
            "la  mediana de edad es: 36.0\n"
          ]
        }
      ]
    },
    {
      "cell_type": "code",
      "source": [
        "std_año_expedicion = dataset[\"Año Expedición\"].std()\n",
        "std_mes_expedicion = dataset[\"Mes expedición\"].std()\n",
        "std_numero = dataset[\"Numero\"].std()\n",
        "std_ciudad_domicilio = dataset[\"Ciudad domicilio Colombia Código\"].std()\n",
        "std_edad = dataset[\"Edad\"].std()\n",
        "print(std_año_expedicion)\n",
        "print(std_mes_expedicion)\n",
        "print(std_numero)\n",
        "print(std_ciudad_domicilio)\n",
        "print(std_edad)"
      ],
      "metadata": {
        "colab": {
          "base_uri": "https://localhost:8080/"
        },
        "id": "ldU34e7_SNDH",
        "outputId": "10c1f285-00f9-4cc7-df10-9b767b76c22d"
      },
      "execution_count": null,
      "outputs": [
        {
          "output_type": "stream",
          "name": "stdout",
          "text": [
            "3.090204825130851\n",
            "3.4228068941681142\n",
            "0.2191392214863763\n",
            "21510.898342886656\n",
            "14.8558373010505\n"
          ]
        }
      ]
    },
    {
      "cell_type": "code",
      "source": [
        "iqr_año_expedicion = dataset[\"Año Expedición\"].quantile(0.75) - dataset[\"Año Expedición\"].quantile(0.25)\n",
        "iqr_mes_expedicion = dataset[\"Mes expedición\"].quantile(0.75) - dataset[\"Mes expedición\"].quantile(0.25)\n",
        "iqr_numero = dataset[\"Numero\"].quantile(0.75) - dataset[\"Numero\"].quantile(0.25)\n",
        "iqr_ciudad_domicilo_codigo = dataset[\"Ciudad domicilio Colombia Código\"].quantile(0.75) - dataset[\"Ciudad domicilio Colombia Código\"].quantile(0.25)\n",
        "iqr_edad = dataset[\"Edad\"].quantile(0.75) - dataset[\"Edad\"].quantile(0.25)\n",
        "print (iqr_año_expedicion)\n",
        "print (iqr_mes_expedicion)\n",
        "print (iqr_numero)\n",
        "print (iqr_ciudad_domicilo_codigo)\n",
        "print (iqr_edad)"
      ],
      "metadata": {
        "colab": {
          "base_uri": "https://localhost:8080/"
        },
        "id": "eTInEQl1URqr",
        "outputId": "7e4115c6-e3d2-4413-f7a1-a0a372b16e83"
      },
      "execution_count": null,
      "outputs": [
        {
          "output_type": "stream",
          "name": "stdout",
          "text": [
            "5.0\n",
            "6.0\n",
            "0.0\n",
            "11001.0\n",
            "18.0\n"
          ]
        }
      ]
    },
    {
      "cell_type": "code",
      "source": [
        "#david\n",
        "dataset.describe()"
      ],
      "metadata": {
        "colab": {
          "base_uri": "https://localhost:8080/",
          "height": 318
        },
        "id": "w3LfJeqpVf6Y",
        "outputId": "9a83b0f0-c908-424b-df34-1c6a240a4dee"
      },
      "execution_count": null,
      "outputs": [
        {
          "output_type": "execute_result",
          "data": {
            "text/plain": [
              "                Edad  Ciudad domicilio Colombia Código  Año Expedición  \\\n",
              "count  133967.000000                     133970.000000   133970.000000   \n",
              "mean       37.026320                      13375.625371     2018.263559   \n",
              "std        14.855837                      21510.898343        3.090205   \n",
              "min         0.000000                          0.000000     2013.000000   \n",
              "25%        28.000000                          0.000000     2016.000000   \n",
              "50%        36.000000                       5266.000000     2018.000000   \n",
              "75%        46.000000                      11001.000000     2021.000000   \n",
              "max       133.000000                      99001.000000     2025.000000   \n",
              "\n",
              "       Mes expedición         Numero  \n",
              "count   133970.000000  133970.000000  \n",
              "mean         6.702919       1.028200  \n",
              "std          3.422807       0.219139  \n",
              "min          1.000000       1.000000  \n",
              "25%          4.000000       1.000000  \n",
              "50%          7.000000       1.000000  \n",
              "75%         10.000000       1.000000  \n",
              "max         12.000000      15.000000  "
            ],
            "text/html": [
              "\n",
              "  <div id=\"df-5efd18bd-f9b1-4699-8aff-9c20e20939a7\" class=\"colab-df-container\">\n",
              "    <div>\n",
              "<style scoped>\n",
              "    .dataframe tbody tr th:only-of-type {\n",
              "        vertical-align: middle;\n",
              "    }\n",
              "\n",
              "    .dataframe tbody tr th {\n",
              "        vertical-align: top;\n",
              "    }\n",
              "\n",
              "    .dataframe thead th {\n",
              "        text-align: right;\n",
              "    }\n",
              "</style>\n",
              "<table border=\"1\" class=\"dataframe\">\n",
              "  <thead>\n",
              "    <tr style=\"text-align: right;\">\n",
              "      <th></th>\n",
              "      <th>Edad</th>\n",
              "      <th>Ciudad domicilio Colombia Código</th>\n",
              "      <th>Año Expedición</th>\n",
              "      <th>Mes expedición</th>\n",
              "      <th>Numero</th>\n",
              "    </tr>\n",
              "  </thead>\n",
              "  <tbody>\n",
              "    <tr>\n",
              "      <th>count</th>\n",
              "      <td>133967.000000</td>\n",
              "      <td>133970.000000</td>\n",
              "      <td>133970.000000</td>\n",
              "      <td>133970.000000</td>\n",
              "      <td>133970.000000</td>\n",
              "    </tr>\n",
              "    <tr>\n",
              "      <th>mean</th>\n",
              "      <td>37.026320</td>\n",
              "      <td>13375.625371</td>\n",
              "      <td>2018.263559</td>\n",
              "      <td>6.702919</td>\n",
              "      <td>1.028200</td>\n",
              "    </tr>\n",
              "    <tr>\n",
              "      <th>std</th>\n",
              "      <td>14.855837</td>\n",
              "      <td>21510.898343</td>\n",
              "      <td>3.090205</td>\n",
              "      <td>3.422807</td>\n",
              "      <td>0.219139</td>\n",
              "    </tr>\n",
              "    <tr>\n",
              "      <th>min</th>\n",
              "      <td>0.000000</td>\n",
              "      <td>0.000000</td>\n",
              "      <td>2013.000000</td>\n",
              "      <td>1.000000</td>\n",
              "      <td>1.000000</td>\n",
              "    </tr>\n",
              "    <tr>\n",
              "      <th>25%</th>\n",
              "      <td>28.000000</td>\n",
              "      <td>0.000000</td>\n",
              "      <td>2016.000000</td>\n",
              "      <td>4.000000</td>\n",
              "      <td>1.000000</td>\n",
              "    </tr>\n",
              "    <tr>\n",
              "      <th>50%</th>\n",
              "      <td>36.000000</td>\n",
              "      <td>5266.000000</td>\n",
              "      <td>2018.000000</td>\n",
              "      <td>7.000000</td>\n",
              "      <td>1.000000</td>\n",
              "    </tr>\n",
              "    <tr>\n",
              "      <th>75%</th>\n",
              "      <td>46.000000</td>\n",
              "      <td>11001.000000</td>\n",
              "      <td>2021.000000</td>\n",
              "      <td>10.000000</td>\n",
              "      <td>1.000000</td>\n",
              "    </tr>\n",
              "    <tr>\n",
              "      <th>max</th>\n",
              "      <td>133.000000</td>\n",
              "      <td>99001.000000</td>\n",
              "      <td>2025.000000</td>\n",
              "      <td>12.000000</td>\n",
              "      <td>15.000000</td>\n",
              "    </tr>\n",
              "  </tbody>\n",
              "</table>\n",
              "</div>\n",
              "    <div class=\"colab-df-buttons\">\n",
              "\n",
              "  <div class=\"colab-df-container\">\n",
              "    <button class=\"colab-df-convert\" onclick=\"convertToInteractive('df-5efd18bd-f9b1-4699-8aff-9c20e20939a7')\"\n",
              "            title=\"Convert this dataframe to an interactive table.\"\n",
              "            style=\"display:none;\">\n",
              "\n",
              "  <svg xmlns=\"http://www.w3.org/2000/svg\" height=\"24px\" viewBox=\"0 -960 960 960\">\n",
              "    <path d=\"M120-120v-720h720v720H120Zm60-500h600v-160H180v160Zm220 220h160v-160H400v160Zm0 220h160v-160H400v160ZM180-400h160v-160H180v160Zm440 0h160v-160H620v160ZM180-180h160v-160H180v160Zm440 0h160v-160H620v160Z\"/>\n",
              "  </svg>\n",
              "    </button>\n",
              "\n",
              "  <style>\n",
              "    .colab-df-container {\n",
              "      display:flex;\n",
              "      gap: 12px;\n",
              "    }\n",
              "\n",
              "    .colab-df-convert {\n",
              "      background-color: #E8F0FE;\n",
              "      border: none;\n",
              "      border-radius: 50%;\n",
              "      cursor: pointer;\n",
              "      display: none;\n",
              "      fill: #1967D2;\n",
              "      height: 32px;\n",
              "      padding: 0 0 0 0;\n",
              "      width: 32px;\n",
              "    }\n",
              "\n",
              "    .colab-df-convert:hover {\n",
              "      background-color: #E2EBFA;\n",
              "      box-shadow: 0px 1px 2px rgba(60, 64, 67, 0.3), 0px 1px 3px 1px rgba(60, 64, 67, 0.15);\n",
              "      fill: #174EA6;\n",
              "    }\n",
              "\n",
              "    .colab-df-buttons div {\n",
              "      margin-bottom: 4px;\n",
              "    }\n",
              "\n",
              "    [theme=dark] .colab-df-convert {\n",
              "      background-color: #3B4455;\n",
              "      fill: #D2E3FC;\n",
              "    }\n",
              "\n",
              "    [theme=dark] .colab-df-convert:hover {\n",
              "      background-color: #434B5C;\n",
              "      box-shadow: 0px 1px 3px 1px rgba(0, 0, 0, 0.15);\n",
              "      filter: drop-shadow(0px 1px 2px rgba(0, 0, 0, 0.3));\n",
              "      fill: #FFFFFF;\n",
              "    }\n",
              "  </style>\n",
              "\n",
              "    <script>\n",
              "      const buttonEl =\n",
              "        document.querySelector('#df-5efd18bd-f9b1-4699-8aff-9c20e20939a7 button.colab-df-convert');\n",
              "      buttonEl.style.display =\n",
              "        google.colab.kernel.accessAllowed ? 'block' : 'none';\n",
              "\n",
              "      async function convertToInteractive(key) {\n",
              "        const element = document.querySelector('#df-5efd18bd-f9b1-4699-8aff-9c20e20939a7');\n",
              "        const dataTable =\n",
              "          await google.colab.kernel.invokeFunction('convertToInteractive',\n",
              "                                                    [key], {});\n",
              "        if (!dataTable) return;\n",
              "\n",
              "        const docLinkHtml = 'Like what you see? Visit the ' +\n",
              "          '<a target=\"_blank\" href=https://colab.research.google.com/notebooks/data_table.ipynb>data table notebook</a>'\n",
              "          + ' to learn more about interactive tables.';\n",
              "        element.innerHTML = '';\n",
              "        dataTable['output_type'] = 'display_data';\n",
              "        await google.colab.output.renderOutput(dataTable, element);\n",
              "        const docLink = document.createElement('div');\n",
              "        docLink.innerHTML = docLinkHtml;\n",
              "        element.appendChild(docLink);\n",
              "      }\n",
              "    </script>\n",
              "  </div>\n",
              "\n",
              "\n",
              "<div id=\"df-d7f9cee6-bd9c-444d-9da7-13be15438406\">\n",
              "  <button class=\"colab-df-quickchart\" onclick=\"quickchart('df-d7f9cee6-bd9c-444d-9da7-13be15438406')\"\n",
              "            title=\"Suggest charts\"\n",
              "            style=\"display:none;\">\n",
              "\n",
              "<svg xmlns=\"http://www.w3.org/2000/svg\" height=\"24px\"viewBox=\"0 0 24 24\"\n",
              "     width=\"24px\">\n",
              "    <g>\n",
              "        <path d=\"M19 3H5c-1.1 0-2 .9-2 2v14c0 1.1.9 2 2 2h14c1.1 0 2-.9 2-2V5c0-1.1-.9-2-2-2zM9 17H7v-7h2v7zm4 0h-2V7h2v10zm4 0h-2v-4h2v4z\"/>\n",
              "    </g>\n",
              "</svg>\n",
              "  </button>\n",
              "\n",
              "<style>\n",
              "  .colab-df-quickchart {\n",
              "      --bg-color: #E8F0FE;\n",
              "      --fill-color: #1967D2;\n",
              "      --hover-bg-color: #E2EBFA;\n",
              "      --hover-fill-color: #174EA6;\n",
              "      --disabled-fill-color: #AAA;\n",
              "      --disabled-bg-color: #DDD;\n",
              "  }\n",
              "\n",
              "  [theme=dark] .colab-df-quickchart {\n",
              "      --bg-color: #3B4455;\n",
              "      --fill-color: #D2E3FC;\n",
              "      --hover-bg-color: #434B5C;\n",
              "      --hover-fill-color: #FFFFFF;\n",
              "      --disabled-bg-color: #3B4455;\n",
              "      --disabled-fill-color: #666;\n",
              "  }\n",
              "\n",
              "  .colab-df-quickchart {\n",
              "    background-color: var(--bg-color);\n",
              "    border: none;\n",
              "    border-radius: 50%;\n",
              "    cursor: pointer;\n",
              "    display: none;\n",
              "    fill: var(--fill-color);\n",
              "    height: 32px;\n",
              "    padding: 0;\n",
              "    width: 32px;\n",
              "  }\n",
              "\n",
              "  .colab-df-quickchart:hover {\n",
              "    background-color: var(--hover-bg-color);\n",
              "    box-shadow: 0 1px 2px rgba(60, 64, 67, 0.3), 0 1px 3px 1px rgba(60, 64, 67, 0.15);\n",
              "    fill: var(--button-hover-fill-color);\n",
              "  }\n",
              "\n",
              "  .colab-df-quickchart-complete:disabled,\n",
              "  .colab-df-quickchart-complete:disabled:hover {\n",
              "    background-color: var(--disabled-bg-color);\n",
              "    fill: var(--disabled-fill-color);\n",
              "    box-shadow: none;\n",
              "  }\n",
              "\n",
              "  .colab-df-spinner {\n",
              "    border: 2px solid var(--fill-color);\n",
              "    border-color: transparent;\n",
              "    border-bottom-color: var(--fill-color);\n",
              "    animation:\n",
              "      spin 1s steps(1) infinite;\n",
              "  }\n",
              "\n",
              "  @keyframes spin {\n",
              "    0% {\n",
              "      border-color: transparent;\n",
              "      border-bottom-color: var(--fill-color);\n",
              "      border-left-color: var(--fill-color);\n",
              "    }\n",
              "    20% {\n",
              "      border-color: transparent;\n",
              "      border-left-color: var(--fill-color);\n",
              "      border-top-color: var(--fill-color);\n",
              "    }\n",
              "    30% {\n",
              "      border-color: transparent;\n",
              "      border-left-color: var(--fill-color);\n",
              "      border-top-color: var(--fill-color);\n",
              "      border-right-color: var(--fill-color);\n",
              "    }\n",
              "    40% {\n",
              "      border-color: transparent;\n",
              "      border-right-color: var(--fill-color);\n",
              "      border-top-color: var(--fill-color);\n",
              "    }\n",
              "    60% {\n",
              "      border-color: transparent;\n",
              "      border-right-color: var(--fill-color);\n",
              "    }\n",
              "    80% {\n",
              "      border-color: transparent;\n",
              "      border-right-color: var(--fill-color);\n",
              "      border-bottom-color: var(--fill-color);\n",
              "    }\n",
              "    90% {\n",
              "      border-color: transparent;\n",
              "      border-bottom-color: var(--fill-color);\n",
              "    }\n",
              "  }\n",
              "</style>\n",
              "\n",
              "  <script>\n",
              "    async function quickchart(key) {\n",
              "      const quickchartButtonEl =\n",
              "        document.querySelector('#' + key + ' button');\n",
              "      quickchartButtonEl.disabled = true;  // To prevent multiple clicks.\n",
              "      quickchartButtonEl.classList.add('colab-df-spinner');\n",
              "      try {\n",
              "        const charts = await google.colab.kernel.invokeFunction(\n",
              "            'suggestCharts', [key], {});\n",
              "      } catch (error) {\n",
              "        console.error('Error during call to suggestCharts:', error);\n",
              "      }\n",
              "      quickchartButtonEl.classList.remove('colab-df-spinner');\n",
              "      quickchartButtonEl.classList.add('colab-df-quickchart-complete');\n",
              "    }\n",
              "    (() => {\n",
              "      let quickchartButtonEl =\n",
              "        document.querySelector('#df-d7f9cee6-bd9c-444d-9da7-13be15438406 button');\n",
              "      quickchartButtonEl.style.display =\n",
              "        google.colab.kernel.accessAllowed ? 'block' : 'none';\n",
              "    })();\n",
              "  </script>\n",
              "</div>\n",
              "\n",
              "    </div>\n",
              "  </div>\n"
            ],
            "application/vnd.google.colaboratory.intrinsic+json": {
              "type": "dataframe",
              "summary": "{\n  \"name\": \"dataset\",\n  \"rows\": 8,\n  \"fields\": [\n    {\n      \"column\": \"Edad\",\n      \"properties\": {\n        \"dtype\": \"number\",\n        \"std\": 47349.60995554317,\n        \"min\": 0.0,\n        \"max\": 133967.0,\n        \"num_unique_values\": 8,\n        \"samples\": [\n          37.026319914605835,\n          36.0,\n          133967.0\n        ],\n        \"semantic_type\": \"\",\n        \"description\": \"\"\n      }\n    },\n    {\n      \"column\": \"Ciudad domicilio Colombia C\\u00f3digo\",\n      \"properties\": {\n        \"dtype\": \"number\",\n        \"std\": 51337.39188323847,\n        \"min\": 0.0,\n        \"max\": 133970.0,\n        \"num_unique_values\": 7,\n        \"samples\": [\n          133970.0,\n          13375.625371351794,\n          11001.0\n        ],\n        \"semantic_type\": \"\",\n        \"description\": \"\"\n      }\n    },\n    {\n      \"column\": \"A\\u00f1o Expedici\\u00f3n\",\n      \"properties\": {\n        \"dtype\": \"number\",\n        \"std\": 46758.999608201426,\n        \"min\": 3.090204825130851,\n        \"max\": 133970.0,\n        \"num_unique_values\": 8,\n        \"samples\": [\n          2018.2635590057475,\n          2018.0,\n          133970.0\n        ],\n        \"semantic_type\": \"\",\n        \"description\": \"\"\n      }\n    },\n    {\n      \"column\": \"Mes expedici\\u00f3n\",\n      \"properties\": {\n        \"dtype\": \"number\",\n        \"std\": 47363.31918554071,\n        \"min\": 1.0,\n        \"max\": 133970.0,\n        \"num_unique_values\": 8,\n        \"samples\": [\n          6.70291856385758,\n          7.0,\n          133970.0\n        ],\n        \"semantic_type\": \"\",\n        \"description\": \"\"\n      }\n    },\n    {\n      \"column\": \"Numero\",\n      \"properties\": {\n        \"dtype\": \"number\",\n        \"std\": 47364.52535139487,\n        \"min\": 0.2191392214863763,\n        \"max\": 133970.0,\n        \"num_unique_values\": 5,\n        \"samples\": [\n          1.0282003433604539,\n          15.0,\n          0.2191392214863763\n        ],\n        \"semantic_type\": \"\",\n        \"description\": \"\"\n      }\n    }\n  ]\n}"
            }
          },
          "metadata": {},
          "execution_count": 53
        }
      ]
    },
    {
      "cell_type": "code",
      "source": [
        "data_heatmap = dataset[['Año Expedición', 'Mes expedición', \"Numero\", \"Ciudad domicilio Colombia Código\", \"Edad\"]]\n",
        "sns.heatmap(data_heatmap.corr(), vmin=-1, vmax=1, cmap=sns.diverging_palette(20, 220, as_cmap=True))\n",
        "plt.show()"
      ],
      "metadata": {
        "colab": {
          "base_uri": "https://localhost:8080/",
          "height": 680
        },
        "id": "4co3oypVkc_p",
        "outputId": "a029b116-bc7f-44a6-ce39-00868fed0d5b"
      },
      "execution_count": null,
      "outputs": [
        {
          "output_type": "display_data",
          "data": {
            "text/plain": [
              "<Figure size 640x480 with 2 Axes>"
            ],
            "image/png": "[encoded data removed]"
          },
          "metadata": {}
        }
      ]
    },
    {
      "cell_type": "markdown",
      "source": [
        "![WhatsApp Image 2025-03-02 at 5.48.15 PM.jpeg](data:image/jpeg;base64,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)"
      ],
      "metadata": {
        "id": "WxYfbpc7mYdU"
      }
    },
    {
      "cell_type": "code",
      "source": [
        "moda = stats.mode(dataset[\"Edad\"])\n",
        "print(f\"La moda de edad es: {moda.mode}\")\n"
      ],
      "metadata": {
        "colab": {
          "base_uri": "https://localhost:8080/"
        },
        "id": "HPhXl2aXZQWH",
        "outputId": "d7cb66c5-f94b-4036-acb5-c62cd3839e2f"
      },
      "execution_count": null,
      "outputs": [
        {
          "output_type": "stream",
          "name": "stdout",
          "text": [
            "La moda de edad es: 33.0\n"
          ]
        }
      ]
    },
    {
      "cell_type": "code",
      "source": [
        "moda = stats.mode(dataset[\"Numero\"])\n",
        "print(f\"La moda de numero es: {moda.mode}\")"
      ],
      "metadata": {
        "colab": {
          "base_uri": "https://localhost:8080/"
        },
        "id": "YMyFLSRls9C9",
        "outputId": "5980e65e-ef26-4c54-bbd8-519e40ed8d8e"
      },
      "execution_count": null,
      "outputs": [
        {
          "output_type": "stream",
          "name": "stdout",
          "text": [
            "La moda de numero es: 1\n"
          ]
        }
      ]
    },
    {
      "cell_type": "code",
      "source": [
        "#david\n",
        "fig, ax = plt.subplots()\n",
        "\n",
        "\n",
        "dataset.boxplot(column=\"Edad\", ax=ax)\n",
        "ax.set_title(\"Diagrama de Caja: Edad\")\n",
        "plt.show()\n",
        "\n",
        "\n",
        "fig, ax = plt.subplots()\n",
        "\n",
        "\n",
        "dataset.boxplot(column=\"Numero\", ax=ax)\n",
        "ax.set_title(\"Diagrama de Caja: Número de Visas Expedidas\")\n",
        "plt.show()"
      ],
      "metadata": {
        "colab": {
          "base_uri": "https://localhost:8080/",
          "height": 888
        },
        "id": "vCN7wcWoZI1M",
        "outputId": "969f81c4-0840-48bc-b088-745aab01eea9"
      },
      "execution_count": null,
      "outputs": [
        {
          "output_type": "display_data",
          "data": {
            "text/plain": [
              "<Figure size 640x480 with 1 Axes>"
            ],
            "image/png": "[encoded data removed]"
          },
          "metadata": {}
        },
        {
          "output_type": "display_data",
          "data": {
            "text/plain": [
              "<Figure size 640x480 with 1 Axes>"
            ],
            "image/png": "[encoded data removed]"
          },
          "metadata": {}
        }
      ]
    },
    {
      "cell_type": "code",
      "source": [
        "frecuencia_relativa = dataset [\"Sexo\"].value_counts(normalize=True)\n",
        "print(frecuencia_relativa)"
      ],
      "metadata": {
        "colab": {
          "base_uri": "https://localhost:8080/"
        },
        "id": "svABEM0Aa2cu",
        "outputId": "724f874e-c72d-4f13-fbb3-71d0d0d1632a"
      },
      "execution_count": null,
      "outputs": [
        {
          "output_type": "stream",
          "name": "stdout",
          "text": [
            "Sexo\n",
            "M        0.530970\n",
            "F        0.468993\n",
            "(NO R    0.000022\n",
            "NB       0.000015\n",
            "Name: proportion, dtype: float64\n"
          ]
        }
      ]
    },
    {
      "cell_type": "code",
      "source": [
        "frecuencia_relativa = dataset [\"Tipo de visa\"].value_counts(normalize=True)\n",
        "print(frecuencia_relativa)"
      ],
      "metadata": {
        "colab": {
          "base_uri": "https://localhost:8080/"
        },
        "id": "U6QN6EbqcAk0",
        "outputId": "05419266-8e4d-413e-e8bd-fd8c08ca45c5"
      },
      "execution_count": null,
      "outputs": [
        {
          "output_type": "stream",
          "name": "stdout",
          "text": [
            "Tipo de visa\n",
            "TEMPORAL           0.345645\n",
            "VISAS MIGRANTE     0.287870\n",
            "VISAS RESIDENTE    0.238135\n",
            "TRASPASOS          0.072150\n",
            "VISAS VISITANTE    0.048824\n",
            "NEGOCIOS           0.007375\n",
            "Name: proportion, dtype: float64\n"
          ]
        }
      ]
    },
    {
      "cell_type": "code",
      "source": [
        "frecuencia_relativa = dataset [\"Nivel académico\"].value_counts(normalize=True)\n",
        "print(frecuencia_relativa)"
      ],
      "metadata": {
        "colab": {
          "base_uri": "https://localhost:8080/"
        },
        "id": "BusIpoLHcGMd",
        "outputId": "f0d89d3c-ef0a-4f58-83af-7f0e089a3409"
      },
      "execution_count": null,
      "outputs": [
        {
          "output_type": "stream",
          "name": "stdout",
          "text": [
            "Nivel académico\n",
            "PREGRADO - PROFESIONAL            0.402262\n",
            "SIN PROFESI�N                     0.288609\n",
            "PREGRADO - T�CNICO PROFESIONAL    0.083347\n",
            "(NO REGISTRA)                     0.071374\n",
            "POSTGRADO - ESPECIALIZACI�N       0.052997\n",
            "PREGRADO - TECNOL�GICO            0.044196\n",
            "POSTGRADO - MAESTRIA              0.043353\n",
            "POSTGRADO - DOCTORADO             0.013428\n",
            "BACHILLERATO                      0.000306\n",
            "PRIMARIA                          0.000127\n",
            "Name: proportion, dtype: float64\n"
          ]
        }
      ]
    },
    {
      "cell_type": "code",
      "source": [
        "unique_values, counts = np.unique(dataset[\"Sexo\"], return_counts=True)\n",
        "moda_index = np.argmax(counts)\n",
        "moda = unique_values[moda_index]\n",
        "print(f\"La moda de la columna 'Sexo' es: {moda}\")"
      ],
      "metadata": {
        "colab": {
          "base_uri": "https://localhost:8080/"
        },
        "id": "3cgUilPtd-th",
        "outputId": "c4bc7a3e-f98e-4319-d784-f5914f11dea3"
      },
      "execution_count": null,
      "outputs": [
        {
          "output_type": "stream",
          "name": "stdout",
          "text": [
            "La moda de la columna 'Sexo' es: M\n"
          ]
        }
      ]
    },
    {
      "cell_type": "code",
      "source": [
        "unique_values, counts = np.unique(dataset[\"Tipo de visa\"], return_counts=True)\n",
        "moda_index = np.argmax(counts)\n",
        "moda = unique_values[moda_index]\n",
        "print(f\"La moda de la columna 'Tipo de visa' es: {moda}\")"
      ],
      "metadata": {
        "colab": {
          "base_uri": "https://localhost:8080/"
        },
        "id": "fLM2IyW3eWyK",
        "outputId": "5e0375a3-5eba-477f-c894-801d77127f0b"
      },
      "execution_count": null,
      "outputs": [
        {
          "output_type": "stream",
          "name": "stdout",
          "text": [
            "La moda de la columna 'Tipo de visa' es: TEMPORAL\n"
          ]
        }
      ]
    },
    {
      "cell_type": "code",
      "source": [
        "unique_values, counts = np.unique(dataset[\"Nivel académico\"], return_counts=True)\n",
        "moda_index = np.argmax(counts)\n",
        "moda = unique_values[moda_index]\n",
        "print(f\"La moda de la columna 'Nivel académico' es: {moda}\")"
      ],
      "metadata": {
        "colab": {
          "base_uri": "https://localhost:8080/"
        },
        "id": "u5sSpAaremxq",
        "outputId": "c276fd6a-d981-43a0-e62a-f3c3911205b8"
      },
      "execution_count": null,
      "outputs": [
        {
          "output_type": "stream",
          "name": "stdout",
          "text": [
            "La moda de la columna 'Nivel académico' es: PREGRADO - PROFESIONAL\n"
          ]
        }
      ]
    },
    {
      "cell_type": "code",
      "source": [
        "#david\n",
        "tabla_visa_vs_nivel = pd.crosstab(dataset[\"Tipo de visa\"], dataset[\"Nivel académico\"])\n",
        "print(\"Tabla de contingencia: Tipo de visa vs. Nivel académico\")\n",
        "print(tabla_visa_vs_nivel)\n",
        "\n",
        "tabla_sexo_vs_visa = pd.crosstab(dataset[\"Sexo\"], dataset[\"Tipo de visa\"])\n",
        "print(\"\\nTabla de contingencia: Sexo vs. Tipo de visa\")\n",
        "print(tabla_sexo_vs_visa)"
      ],
      "metadata": {
        "colab": {
          "base_uri": "https://localhost:8080/"
        },
        "id": "l9yJrijfdBvY",
        "outputId": "20d501ff-1d65-4017-9f51-1adeed1aba07"
      },
      "execution_count": null,
      "outputs": [
        {
          "output_type": "stream",
          "name": "stdout",
          "text": [
            "Tabla de contingencia: Tipo de visa vs. Nivel académico\n",
            "Nivel académico  (NO REGISTRA)  BACHILLERATO  POSTGRADO - DOCTORADO  \\\n",
            "Tipo de visa                                                          \n",
            "NEGOCIOS                   231             0                     15   \n",
            "TEMPORAL                  7898            34                    625   \n",
            "TRASPASOS                  329             0                    159   \n",
            "VISAS MIGRANTE               0             0                    639   \n",
            "VISAS RESIDENTE           1104             7                    291   \n",
            "VISAS VISITANTE              0             0                     70   \n",
            "\n",
            "Nivel académico  POSTGRADO - ESPECIALIZACI�N  POSTGRADO - MAESTRIA  \\\n",
            "Tipo de visa                                                         \n",
            "NEGOCIOS                                  56                    59   \n",
            "TEMPORAL                                2331                  2036   \n",
            "TRASPASOS                                681                   605   \n",
            "VISAS MIGRANTE                          2115                  1585   \n",
            "VISAS RESIDENTE                         1686                  1353   \n",
            "VISAS VISITANTE                          231                   170   \n",
            "\n",
            "Nivel académico  PREGRADO - PROFESIONAL  PREGRADO - TECNOL�GICO  \\\n",
            "Tipo de visa                                                      \n",
            "NEGOCIOS                            384                      30   \n",
            "TEMPORAL                          17466                    1488   \n",
            "TRASPASOS                          3979                     532   \n",
            "VISAS MIGRANTE                    17374                    1565   \n",
            "VISAS RESIDENTE                   12427                    2018   \n",
            "VISAS VISITANTE                    2261                     288   \n",
            "\n",
            "Nivel académico  PREGRADO - T�CNICO PROFESIONAL  PRIMARIA  SIN PROFESI�N  \n",
            "Tipo de visa                                                              \n",
            "NEGOCIOS                                     95         0            118  \n",
            "TEMPORAL                                   3304        13          11111  \n",
            "TRASPASOS                                   731         0           2650  \n",
            "VISAS MIGRANTE                             3082         0          12206  \n",
            "VISAS RESIDENTE                            3411         4           9602  \n",
            "VISAS VISITANTE                             543         0           2978  \n",
            "\n",
            "Tabla de contingencia: Sexo vs. Tipo de visa\n",
            "Tipo de visa  NEGOCIOS  TEMPORAL  TRASPASOS  VISAS MIGRANTE  VISAS RESIDENTE  \\\n",
            "Sexo                                                                           \n",
            "(NO R                0         0          2               1                0   \n",
            "F                  299     21012       5069           18458            15910   \n",
            "M                  689     25294       4595           20106            15993   \n",
            "NB                   0         0          0               1                0   \n",
            "\n",
            "Tipo de visa  VISAS VISITANTE  \n",
            "Sexo                           \n",
            "(NO R                       0  \n",
            "F                        2083  \n",
            "M                        4457  \n",
            "NB                          1  \n"
          ]
        }
      ]
    },
    {
      "cell_type": "code",
      "source": [
        "#david\n",
        "correlacion = dataset[[\"Edad\", \"Numero\"]].corr()\n",
        "print(\"Matriz de correlación:\")\n",
        "print(correlacion)\n",
        "\n",
        "\n",
        "plt.figure(figsize=(5, 4))\n",
        "sns.heatmap(correlacion, annot=True, cmap=\"coolwarm\", fmt=\".2f\", linewidths=1)\n",
        "plt.title(\"Matriz de Correlación\")\n",
        "plt.show()"
      ],
      "metadata": {
        "colab": {
          "base_uri": "https://localhost:8080/",
          "height": 460
        },
        "id": "w2qWWtyvgCCP",
        "outputId": "6e71598a-2748-40c6-90af-9853600ad678"
      },
      "execution_count": null,
      "outputs": [
        {
          "output_type": "stream",
          "name": "stdout",
          "text": [
            "Matriz de correlación:\n",
            "            Edad    Numero\n",
            "Edad    1.000000 -0.080965\n",
            "Numero -0.080965  1.000000\n"
          ]
        },
        {
          "output_type": "display_data",
          "data": {
            "text/plain": [
              "<Figure size 500x400 with 2 Axes>"
            ],
            "image/png": "[encoded data removed]"
          },
          "metadata": {}
        }
      ]
    },
    {
      "cell_type": "code",
      "source": [
        "data_heatmap = dataset[['Año Expedición', 'Mes expedición', \"Numero\", \"Ciudad domicilio Colombia Código\", \"Edad\"]]\n",
        "sns.heatmap(data_heatmap.corr(), vmin=-1, vmax=1, cmap=sns.diverging_palette(20, 220, as_cmap=True))\n",
        "plt.show()"
      ],
      "metadata": {
        "colab": {
          "base_uri": "https://localhost:8080/",
          "height": 630
        },
        "id": "31d8WlqldgXA",
        "outputId": "61eda446-ad92-4987-b7f7-6c6c2d76fc9d"
      },
      "execution_count": null,
      "outputs": [
        {
          "output_type": "display_data",
          "data": {
            "text/plain": [
              "<Figure size 640x480 with 2 Axes>"
            ],
            "image/png": "[encoded data removed]"
          },
          "metadata": {}
        }
      ]
    }
  ]
}